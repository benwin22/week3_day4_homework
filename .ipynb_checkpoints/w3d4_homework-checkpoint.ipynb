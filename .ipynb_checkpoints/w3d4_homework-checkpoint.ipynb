{
 "cells": [
  {
   "cell_type": "markdown",
   "metadata": {},
   "source": [
    " <h1 align = center> Principles of Object Oriented Programming </h1>"
   ]
  },
  {
   "cell_type": "markdown",
   "metadata": {},
   "source": [
    "#### 4 principles\n",
    "- Encapsulation\n",
    "- Inheritance\n",
    "- Polymorphism\n",
    "- Abstraction\n"
   ]
  },
  {
   "cell_type": "markdown",
   "metadata": {},
   "source": [
    "## ENCAPSULATION"
   ]
  },
  {
   "cell_type": "markdown",
   "metadata": {},
   "source": [
    "In encapsulation, the variables of a class can be made hidden from other classes, and can be accessed only through the methods of their current class. Therefore, it is also known as data hiding.\n",
    "<br><br>\n",
    "Encapsulation can be described as a protective barrier that prevents the code and data being randomly accessed by other code defined outside the class. Access to the data and code is tightly controlled by a class."
   ]
  },
  {
   "cell_type": "code",
   "execution_count": null,
   "metadata": {},
   "outputs": [],
   "source": [
    "from datetime import timedelta, date\n",
    "from IPython.display import Image\n",
    "import requests\n",
    "from time import sleep\n",
    "\n",
    "generic_image = 'codeflix.png'\n"
   ]
  },
  {
   "cell_type": "code",
   "execution_count": null,
   "metadata": {},
   "outputs": [],
   "source": [
    "class MyVideo():\n",
    "    def __init__(self, title, quality, duration, cast, genre, captioning):\n",
    "        self.title = title\n",
    "        self.quality = quality\n",
    "        self.duration = duration\n",
    "        self.cast = cast\n",
    "        self.genre = genre\n",
    "        self.captioning = captioning        \n",
    "    \n",
    "    def change_video(self):\n",
    "        new_show = input(\"What would you like to watch? \")\n",
    "        self.title = new_show\n",
    "        print(f\"You are now watching, {self.title}!!\")\n",
    "        \n",
    "    def control_captioning(self):\n",
    "        if self.captioning == True:\n",
    "            self.captioning = False\n",
    "            print(\"Captions are now turned off\")\n",
    "        elif self.captioning == False:\n",
    "            self.captioning = True\n",
    "            print(\"Captions are now turned on\")\n",
    "        \n",
    "    def limited_bandwidth(self):\n",
    "        self.quality = '480p'\n",
    "        print(f\"Due to limited bandwidth, the max quality you can stream is {self.quality}\")\n",
    "        \n",
    "    def add_cast(self):\n",
    "        cast_switch = input(\"Which cast would you like add: \")\n",
    "        self.cast.append(cast_switch)\n",
    "        print(f\"The {self.title} has now a new member {cast_switch}. Welcome {cast_switch}!\")\n",
    "    \n",
    "    def newDuration(self):\n",
    "        dura = int(input(\"What is the duration of your video? (Cannot be over 10 minutes)\"))\n",
    "        if dura <= 10:\n",
    "            self.duration = dura\n",
    "            print(f\"Your video is {dura} minutes long\")\n",
    "        else:\n",
    "            print(\"Your video is too long!\")\n",
    "            \n",
    "    def change_quality(self):\n",
    "        new_quality = input(\"What quality would you like? \")\n",
    "        self.quality = new_quality\n",
    "        print(f\"Your video is now in {self.quality}p! Look at that picture!\")\n",
    "\n",
    "new_video = MyVideo(\"Cool Video\", \"1080p\", \"90 min\", [\"Ryan\", \"Alex\", \"Nate\", \"Tenzin\", \"Kayla\", \"John\"], \"Spooky\", True)\n",
    "\n",
    "\n",
    "        \n",
    "    \n",
    "        \n",
    "    \n",
    "\n",
    "\n",
    "print(new_video.title)   \n",
    "\n",
    "new_video.change_video()\n",
    "new_video.control_captioning()\n",
    "new_video.limited_bandwidth()\n",
    "# new_video.add_cast()\n"
   ]
  },
  {
   "cell_type": "code",
   "execution_count": null,
   "metadata": {},
   "outputs": [],
   "source": [
    "# attributes from instances are unique to that instance\n",
    "# attributes are \"protected\" by the class itself and can have further protection at various levels based on access modifiers \n",
    "\n",
    "class Video():\n",
    "    def __init__(self):\n",
    "        self.title = None\n",
    "        self.length = timedelta()\n",
    "        self.link = generic_image\n",
    "        \n",
    "    def play(self):\n",
    "        print(f\"Now playing {self.title}\")\n",
    "        display(Image(self.link))\n",
    "        \n",
    "    def __len__(self):\n",
    "        return self.length\n",
    "    \n",
    "    def __repr__(self):\n",
    "        return f\"{self.title} is {self.length.seconds} seconds long. \"\n",
    "        \n",
    "    "
   ]
  },
  {
   "cell_type": "markdown",
   "metadata": {},
   "source": [
    "## INHERITANCE"
   ]
  },
  {
   "cell_type": "markdown",
   "metadata": {},
   "source": [
    "Inheritance can be defined as the process where one class acquires the properties (methods and fields) of another.\n",
    "<br>\n",
    "<i>(see above)</i>"
   ]
  },
  {
   "cell_type": "code",
   "execution_count": null,
   "metadata": {},
   "outputs": [],
   "source": [
    "#Episode inherits from Video class\n",
    "class Episode(Video):\n",
    "    def __init__(self, data):\n",
    "        Video.__init__(self)\n",
    "        self.number = data['number']\n",
    "        self.season = data['season']\n",
    "        self.date_aired = data['airdate']\n",
    "        self.summary = data['summary']\n",
    "        self.rating = data['rating']['average']\n",
    "        self.title = data['name']\n",
    "        self.length = timedelta(minutes = data['runtime'])\n",
    "        if data['image']:\n",
    "            self.link = data['image']['medium']"
   ]
  },
  {
   "cell_type": "markdown",
   "metadata": {},
   "source": [
    "## POLYMORPHISM"
   ]
  },
  {
   "cell_type": "markdown",
   "metadata": {},
   "source": [
    "In object-oriented programming, polymorphism (from the Greek meaning “having multiple forms”) is the characteristic of being able to assign a different meaning or usage to something in different contexts — specifically, to allow an entity such as a function, or an object to have more than one form.\n",
    "<br><br>"
   ]
  },
  {
   "cell_type": "code",
   "execution_count": null,
   "metadata": {},
   "outputs": [],
   "source": [
    "class Series():\n",
    "    def __init__(self):\n",
    "        self.id = None\n",
    "        self.network = None\n",
    "        self.seasons = None\n",
    "        self.summary = None\n",
    "        self.title = None\n",
    "        self.genres = []\n",
    "        self.episodes = []\n",
    "        \n",
    "\n",
    "    def get_info(self, query=''):\n",
    "        data = None #<-- in case we cant find the show we're looking for\n",
    "        while not data:\n",
    "            if not query:\n",
    "                query = input(\"What is the name of the series? \")\n",
    "               \n",
    "            \n",
    "            r = requests.get(f'https://api.tvmaze.com/singlesearch/shows?q={query}')\n",
    "            if r.status_code == 200:\n",
    "                data = r.json()\n",
    "            else:\n",
    "                print(f\"Series Error: status code {r.status_code}\")\n",
    "                \n",
    "        #Use data to build out our attributes\n",
    "        self.id = data['id']\n",
    "        self.title = data['name']\n",
    "        self.genres = [genre for genre in data['genres']]\n",
    "        if data['network']:\n",
    "            self.network = data['network']['name']\n",
    "        else:\n",
    "            self.network = data['webChannel']['name']\n",
    "                \n",
    "                \n",
    "        # Api call for episodes\n",
    "        r = requests.get(f'https://api.tvmaze.com/shows/{self.id}/episodes')\n",
    "        if r.status_code == 200:\n",
    "            episodes = r.json()\n",
    "        else:\n",
    "            print(f\"Episode Error: Status Code {r.status_code}\")\n",
    "        \n",
    "        self.seasons = episodes[-1]['season']\n",
    "        self.episodes = [Episode(ep) for ep in episodes] #other classes as attributes or the idea of composition\n",
    "        print(f\"{self.title} has {len(self.episodes)} episodes\")\n",
    "        \n",
    "    def watch(self):\n",
    "        for i in range(len(self.episodes)):\n",
    "            if i > 0 and i % 3 == 0:\n",
    "                watching = input(\"Are you still watching? also get a job y/n\")\n",
    "                if watching.lower().strip() not in ('yes', 'y', 'yeah', 'ye', 'affirmative'):\n",
    "                    break\n",
    "            self.episodes[i].play()\n",
    "            sleep(self.episodes[i].length.seconds/1000)\n",
    "    \n",
    "    def __len__(self):\n",
    "        return len(self.episodes)\n",
    "    \n",
    "    def __repr__(self):\n",
    "        return f\"Title: {self.title}\"\n",
    "     "
   ]
  },
  {
   "cell_type": "code",
   "execution_count": null,
   "metadata": {},
   "outputs": [],
   "source": [
    "first_show = Series()\n",
    "\n",
    "first_show.get_info()\n"
   ]
  },
  {
   "cell_type": "code",
   "execution_count": null,
   "metadata": {},
   "outputs": [],
   "source": [
    "first_show.watch()"
   ]
  },
  {
   "cell_type": "code",
   "execution_count": null,
   "metadata": {},
   "outputs": [],
   "source": [
    "class User:\n",
    "    id_counter = 1 #class attribute \n",
    "    def __init__(self, username, password):\n",
    "        self.username = username\n",
    "        self.password = password[::-2]\n",
    "        self.id = User.id_counter\n",
    "        User.id_counter += 1\n",
    "        self.watch_list = []\n",
    "        \n",
    "    def __str__(self):\n",
    "        formatted_user = f\"\"\"\n",
    "        {self.id} - {self.username.title()}\n",
    "        pw: {self.password}      \n",
    "        \"\"\"\n",
    "        return formatted_user\n",
    "    \n",
    "    def __repr__(self):\n",
    "        return f\"<User {self.id} | {self.username}>\"\n",
    "    \n",
    "    def check_password(self, password_guess):\n",
    "        return self.password == password_guess[::-2]\n",
    "    \n",
    "    \n"
   ]
  },
  {
   "cell_type": "markdown",
   "metadata": {},
   "source": [
    "## ABSTRACTION"
   ]
  },
  {
   "cell_type": "markdown",
   "metadata": {},
   "source": [
    "Abstraction is a process of hiding the implementation details from the user, only the functionality will be provided to the user. We have a bit to do before this becomes visible. But you've seen it before with presenting the user with the option to enter inputs. We then take those input and do something with them.\n",
    "<br><br>"
   ]
  },
  {
   "cell_type": "code",
   "execution_count": null,
   "metadata": {},
   "outputs": [],
   "source": [
    "from datetime import timedelta, date\n",
    "from IPython.display import Image\n",
    "import requests\n",
    "from time import sleep\n",
    "\n",
    "generic_image = 'codeflix.png'\n",
    "\n",
    "class Theater():\n",
    "    def __init__(self):\n",
    "        self.users = set()       \n",
    "        self.current_user = None\n",
    "        \n",
    "    #add a user\n",
    "    def add_user(self):\n",
    "        username = input(\"Please enter a username: \")\n",
    "        \n",
    "        if username in {u.username for u in self.users}:\n",
    "            print(\"User with that name already exists. Please try again!\") # 409 Error, conflict in request\n",
    "        else:\n",
    "            password = input(\"Please enter your password. \")\n",
    "            user = User(username, password)\n",
    "            self.users.add(user)\n",
    "            print(f\"{user} has been created!!!\")            \n",
    "        \n",
    "        \n",
    "     \n",
    "        self.login_user()\n",
    "        \n",
    "    #choose a user\n",
    "    def login_user(self):\n",
    "        username = input(\"What is your username? \")\n",
    "        password = input(\"What is your password? \")\n",
    "\n",
    "        for user in self.users:\n",
    "            if user.username == username and user.check_password(password):\n",
    "                self.current_user = user\n",
    "                print(f\"{user} has logged in\")\n",
    "                break\n",
    "        else:\n",
    "            print(\"Username and/or password is incorrect\")\n",
    "            \n",
    "    def logout(self):\n",
    "        self.current_user = None\n",
    "        print(\"You have succesfully been logged out!\")\n",
    "        \n",
    "    def update_user(self):\n",
    "        \n",
    "        if self.current_user:\n",
    "            print(self.current_user)\n",
    "            new_user = input(\"Please enter the updated username or enter skip to keep your current username\")\n",
    "            if new_user.lower() != 'skip':\n",
    "                self.current_user.username = new_user\n",
    "            new_pw = input(\"Please enter the updated password or enter skip to keep current password\")\n",
    "            if new_pw.lower() != 'skip':\n",
    "                self.current_user.password = new_pw\n",
    "            print(f\"{self.current_user.username}'s info has been updated\")\n",
    "            \n",
    "        else:\n",
    "            print('please login to update user')\n",
    "            self.login_user()\n",
    "        \n",
    "        \n",
    "   \n",
    "    \n",
    "    #add to watchlist\n",
    "    def add_to_watchlist(self, query = ''):\n",
    "        show = Series()\n",
    "        show.get_info(query)\n",
    "        \n",
    "        self.current_user.watch_list.append(show)\n",
    "        \n",
    "        print(f\"{show.title} has been added to the watchlist!\")\n",
    "        \n",
    "     #view watchlist\n",
    "    def view_watch_list(self):\n",
    "         for series in self.current_user.watch_list:\n",
    "            print(f\"\\n\\n{series} | Episodes: {len(series)}\")\n",
    "            print(f\"\\nSummary: \\n {series.summary}\")\n",
    "            display(Image(series.episodes[0].link))\n",
    "        \n",
    "    def delete(self):\n",
    "        print(\"Your current watch list: \")\n",
    "        self.view_watch_list()\n",
    "        \n",
    "        response = input(\"What would you like to remove from your watch list? \")\n",
    "        \n",
    "        for series in self.current_user.watch_list:\n",
    "            if series.title.title() == response.title():\n",
    "                self.current_user.watch_list.remove(series)\n",
    "                print(f\"{response.title()} has been removed from your watch list!\")\n",
    "                break\n",
    "        else:\n",
    "            print(\"That title is not in your watch list! \") #404 not found\n",
    "            \n",
    "        self.view_watch_list()    \n",
    "        \n",
    "        \n",
    "        \n",
    "    #choose from watchlist\n",
    "    def choose_from_watch_list(self):\n",
    "        self.view_watch_list()  \n",
    "            \n",
    "        watch = input(\"What would you like to watch? \")\n",
    "        for series in self.current_user.watch_list:\n",
    "            if series.title.lower() == watch.lower().strip():\n",
    "                series.watch()\n",
    "        else:\n",
    "            response = input(f\"{watch} is not in your watch list....would you like to add it... y/n?\")\n",
    "            if response in ('yes', 'y'):\n",
    "                self.add_to_watchlist(watch)\n",
    "                \n",
    "                print(\"............\")\n",
    "                sleep(2)\n",
    "                print(\"............\")\n",
    "                self.current_user.watch_list[-1].watch()              \n",
    "   \n",
    "        \n",
    "                \n",
    "    # run function to drive the program\n",
    "    def run(self):\n",
    "        \"\"\"\n",
    "        Method allowing users to choose a series and play episodes\n",
    "        \"\"\"\n",
    "        display(Image(generic_image))\n",
    "        \n",
    "        if self.users:\n",
    "            self.choose_user()\n",
    "        else:\n",
    "            self.add_user()            \n",
    "            \n",
    "            print(\"\"\"            \n",
    "            What would you like to do?            \n",
    "            Add - add a new user\n",
    "            Login - login to your profile\n",
    "            Update - update user info\n",
    "            Logout - logout of your profile            \n",
    "            Search - Search for shows\n",
    "            Watch - Pick something from your watchlist            \n",
    "            View - view watch list\n",
    "            Delete - delete from watch list\n",
    "            Quit - close the application           \n",
    "            \n",
    "            \"\"\")\n",
    "            \n",
    "        while True:\n",
    "            response = input(\"What would you like to do? (add, update, login, logout, search, watch, view, delete, quit) \")\n",
    "            \n",
    "            if response.lower() == \"search\":\n",
    "                self.add_to_watchlist()\n",
    "            elif response.lower() == \"watch\":\n",
    "                self.choose_from_watch_list()\n",
    "            elif response.lower() == \"add\":\n",
    "                self.add_user()\n",
    "            elif response.lower() == 'logout':\n",
    "                self.logout()\n",
    "                new_response = input(\"What would you like to do next? login, add, quit\")\n",
    "                if new_response.lower() == 'add':\n",
    "                    self.add_user()\n",
    "                elif new_response.lower() == 'login':\n",
    "                    self.login_user()\n",
    "                elif new_response.lower() == 'quit':\n",
    "                    print(\"Thanks for watching!\")\n",
    "                    break\n",
    "                else:\n",
    "                    print(\"Please enter a valid response and try again!\")\n",
    "            elif response.lower() == 'login':\n",
    "                self.login_user()\n",
    "            elif response.lower() == \"update\":\n",
    "                self.update_user()\n",
    "                    \n",
    "                    \n",
    "            \n",
    "            elif response.lower() == \"view\":\n",
    "                self.view_watch_list()\n",
    "            elif response.lower() == \"delete\":\n",
    "                self.delete()\n",
    "            elif response.lower() == \"quit\":\n",
    "                print(f\"Thanks for watching! {self.current_user}! Now go outside!\")\n",
    "                break\n",
    "            else:\n",
    "                print(\"Invalid Input: please choose from the list!\")\n",
    "        \n",
    "        \n",
    "    \n",
    "        "
   ]
  },
  {
   "cell_type": "code",
   "execution_count": null,
   "metadata": {},
   "outputs": [],
   "source": [
    "codeflix = Theater()\n",
    "\n"
   ]
  },
  {
   "cell_type": "code",
   "execution_count": null,
   "metadata": {},
   "outputs": [],
   "source": [
    "codeflix.run()"
   ]
  },
  {
   "cell_type": "markdown",
   "metadata": {},
   "source": [
    "## Exercise 1"
   ]
  },
  {
   "cell_type": "markdown",
   "metadata": {},
   "source": [
    "<p>Describe in your own words the following concepts and give an analogy tying to a real-world concept."
   ]
  },
  {
   "cell_type": "markdown",
   "metadata": {},
   "source": [
    "#### Difference between a Class & an Object"
   ]
  },
  {
   "cell_type": "code",
   "execution_count": null,
   "metadata": {},
   "outputs": [],
   "source": [
    "# A class is a way of putting data together, as defined by the user. \n",
    "# It is a blueprint and contains objects within. \n",
    "# The objects add value to the class, and the class keeps those objects organized. \n",
    "# We have created classes to find information in two API's, Pokemon and TV shows. \n",
    "# The site GeeksforGeeks has a great example of using class to group together Dogs.\n",
    "# Dogs being the class and things like their age, weight, breed, are the objects, giving value to the class.\n",
    "# Objects are attributes of the class, methods that have behaviors, and specific values that make it unique.\n",
    "\n",
    "# An example I think of is Coffee. Coffee as a class has different objects. \n",
    "\n",
    "class COFFEE:\n",
    "    \n",
    "    Identity: Country of Origin\n",
    "        \n",
    "    Attributes: Type: Arabica, Robusta, Excelsa, and Liberica Growing Altitude:, How it was Dried & Processed\n",
    "        \n",
    "    Behaviors: Tasting notes, Preparation methods, shelf life\n",
    "        \n",
    "# if I undestand this correctly, by creating objects, you are instantiating a class, which is to say, give it \n",
    "# value. The objects make the class real, functional, callable...\n",
    "\n",
    "\n",
    "\n",
    "\n",
    "\n",
    "\n",
    "\n",
    "\n"
   ]
  },
  {
   "cell_type": "markdown",
   "metadata": {},
   "source": [
    "#### Encapsulation"
   ]
  },
  {
   "cell_type": "code",
   "execution_count": null,
   "metadata": {},
   "outputs": [],
   "source": [
    "#Encapsulation works with class by \"encapsulating\" or bundling the class together so that it isn't modified\n",
    "#by other classes within a code. If I undestand this correctly, when creating a class you are encapsulating \n",
    "#everything you define within that class, but keeps it organized and separate. \n",
    "#  In the example with coffee, let's say you are a roaster, and you have all of your information about\n",
    "# your product and you want this accessible to your clients, however, you don't neccessarly need your clients\n",
    "# to know what your cost per pound of coffee is, what your roasting facilities cost are, how much you\n",
    "# pay your employees, but since for the business all of the different factors ultimitly dictate the \n",
    "# final price for one bag of roasted coffee, you encapsulate the different \"classes\" of your business, and \n",
    "# can define what is accessible to either your customer, accountant, employee, the bank...etc?"
   ]
  },
  {
   "cell_type": "markdown",
   "metadata": {},
   "source": [
    "#### Inheritance"
   ]
  },
  {
   "cell_type": "code",
   "execution_count": null,
   "metadata": {},
   "outputs": [],
   "source": [
    "# Inheritance allows for classes to \"inherit\" attributes from a parent class. The child, grandchild classes\n",
    "# take from the parent class, can be modified on their own, but can not change the parent class that it is\n",
    "# inherited from. \n",
    "# An example of this could be like the TV show example we did w3d4. If the TV show itself is the parent,\n",
    "# it has a whole list of \"objects\" that define it. However, the different seasons of the show borrow\n",
    "# are a child to the parent of the show, and within that child are the episodes of the show/season. \n",
    "# If calling or modifying infomation about 1 episode of a particular season you wouldn't want to change\n",
    "# the show as a whole, but you would \"inherit\" the information of the whole family, per se, to either\n",
    "# find what you are looking for or in the case of coding, edit the \"episode\" of a show..."
   ]
  },
  {
   "cell_type": "markdown",
   "metadata": {},
   "source": [
    "#### Polymorphism"
   ]
  },
  {
   "cell_type": "code",
   "execution_count": null,
   "metadata": {},
   "outputs": [],
   "source": [
    "# I think polymorphism works with the different instances of each class family. Poly being many, and morphism\n",
    "# being able to change, it allows things to take on similar values while still being unique. I am still \n",
    "# a little confused about how this works within python, if it defines something, or changes something...\n",
    "# My coffee example might be a real world scenario if I understand this correctly, whereas, a type of bean from\n",
    "# a certain country of origin, roasted in a specific way, sent to different coffee shops, can taste different\n",
    "# in each shop that carries the bean depending on the way a drink is prepared....?"
   ]
  },
  {
   "cell_type": "markdown",
   "metadata": {},
   "source": [
    "#### Abstraction"
   ]
  },
  {
   "cell_type": "code",
   "execution_count": null,
   "metadata": {},
   "outputs": [],
   "source": [
    "# I think abstraction is \"abstracting\" or calling/pulling the infromation you seek without having to \n",
    "# see all of the code that it is nested inside. \n",
    "# In the example of TV shows, if I wanted to watch SNL with Adam Sandler, I would pull just the episodes he is in \n",
    "# and not every single episode ever created. It is also like going to any website, if you want to\n",
    "# shop for a ball cap at DICKS sporting goods, you don't want to see all the code that goes into making \n",
    "# the website work....?"
   ]
  },
  {
   "cell_type": "markdown",
   "metadata": {},
   "source": [
    "##  Exercise 2 (Optional):\n",
    "Discuss what other classes, methods, or fields (attributes) we could make to improve our streaming service using these principles. <br> <br>\n",
    "Start making a few of them and see where it leads. Make sure you either write out your thoughts in the below cell  or comment where you added code to the above Classes."
   ]
  },
  {
   "cell_type": "code",
   "execution_count": null,
   "metadata": {},
   "outputs": [],
   "source": []
  }
 ],
 "metadata": {
  "kernelspec": {
   "display_name": "Python 3 (ipykernel)",
   "language": "python",
   "name": "python3"
  },
  "language_info": {
   "codemirror_mode": {
    "name": "ipython",
    "version": 3
   },
   "file_extension": ".py",
   "mimetype": "text/x-python",
   "name": "python",
   "nbconvert_exporter": "python",
   "pygments_lexer": "ipython3",
   "version": "3.11.4"
  }
 },
 "nbformat": 4,
 "nbformat_minor": 4
}
