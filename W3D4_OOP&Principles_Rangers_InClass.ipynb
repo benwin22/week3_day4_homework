{
 "cells": [
  {
   "cell_type": "markdown",
   "metadata": {},
   "source": [
    " <h1 align = center> Principles of Object Oriented Programming </h1>"
   ]
  },
  {
   "cell_type": "markdown",
   "metadata": {},
   "source": [
    "#### 4 principles\n",
    "- Encapsulation\n",
    "- Inheritance\n",
    "- Polymorphism\n",
    "- Abstraction\n"
   ]
  },
  {
   "cell_type": "markdown",
   "metadata": {},
   "source": [
    "## ENCAPSULATION"
   ]
  },
  {
   "cell_type": "markdown",
   "metadata": {},
   "source": [
    "In encapsulation, the variables of a class can be made hidden from other classes, and can be accessed only through the methods of their current class. Therefore, it is also known as data hiding.\n",
    "<br><br>\n",
    "Encapsulation can be described as a protective barrier that prevents the code and data being randomly accessed by other code defined outside the class. Access to the data and code is tightly controlled by a class."
   ]
  },
  {
   "cell_type": "code",
   "execution_count": 20,
   "metadata": {},
   "outputs": [],
   "source": [
    "from datetime import timedelta, date\n",
    "from IPython.display import Image\n",
    "import requests\n",
    "from time import sleep\n",
    "\n",
    "generic_image = 'codeflix.png'\n"
   ]
  },
  {
   "cell_type": "code",
   "execution_count": 21,
   "metadata": {},
   "outputs": [
    {
     "name": "stdout",
     "output_type": "stream",
     "text": [
      "What are you watching? scrubs\n",
      "scrubs\n",
      "You are watching scrubs it has a runtime of None.\n"
     ]
    }
   ],
   "source": [
    "class Test_Video():\n",
    "    def __init__(self):\n",
    "        self.title = None\n",
    "        self.runtime = None\n",
    "        self.language = None\n",
    "        self.cast = []\n",
    "        self.genres = []\n",
    "        self.description = None\n",
    "        self.captions = False\n",
    "        self.ratings = None\n",
    "    \n",
    " \n",
    "        \n",
    "    def add_title(self):\n",
    "        new_title = input(\"What are you watching? \")\n",
    "        self.title = new_title\n",
    "        \n",
    "    def __repr__(self):\n",
    "        return f\"You are watching {self.title} it has a runtime of {self.runtime}.\"\n",
    "        \n",
    "my_video = Test_Video()\n",
    "\n",
    "\n",
    "# print(my_episode.title) # no no\n",
    "        \n",
    "my_video.add_title()\n",
    "\n",
    "print(my_video.title)\n",
    "\n",
    "print(my_video)\n"
   ]
  },
  {
   "cell_type": "code",
   "execution_count": 22,
   "metadata": {},
   "outputs": [],
   "source": [
    "from datetime import timedelta, date\n",
    "from IPython.display import Image\n",
    "import requests\n",
    "from time import sleep\n",
    "\n",
    "generic_image = 'codeflix.png'\n",
    "\n",
    "\n",
    "class Video():\n",
    "    \n",
    "    generic_image = 'codeflix.png'\n",
    "    \n",
    "    def __intit__(self):\n",
    "        self.title = None\n",
    "        self.length = timedelta()\n",
    "        self.link = generic_image\n",
    "    \n",
    "    def play(self):\n",
    "        print(f\"Now playing: {self.title}\")\n",
    "        display(Image(url = self.link))\n",
    "    \n",
    "    def __len__(self):\n",
    "        return self.length\n",
    "    \n",
    "    def __repr__(self):\n",
    "        return f\"{self.title} is {self.length.seconds} seconds long\"        \n",
    "    \n",
    "    \n",
    "\n"
   ]
  },
  {
   "cell_type": "markdown",
   "metadata": {},
   "source": [
    "## INHERITANCE"
   ]
  },
  {
   "cell_type": "markdown",
   "metadata": {},
   "source": [
    "Inheritance can be defined as the process where one class acquires the properties (methods and fields) of another.\n",
    "<br>\n",
    "<i>(see above)</i>"
   ]
  },
  {
   "cell_type": "code",
   "execution_count": 23,
   "metadata": {},
   "outputs": [],
   "source": [
    "# Episode inherit from Video class\n",
    "\n",
    "class Episode(Video):\n",
    "    def __init__(self, data):\n",
    "        Video.__init__(self)\n",
    "        self.number = data['number']\n",
    "        self.season = data['season']\n",
    "        self.date_aired = data['airdate']\n",
    "        self.summary = data['summary']\n",
    "        self.rating = data['rating']['average']\n",
    "        self.title = data['name']\n",
    "        self.length = timedelta(minutes = data['runtime'])\n",
    "        if data['image']:\n",
    "            self.link = data['image']['medium']\n",
    "\n",
    "\n"
   ]
  },
  {
   "cell_type": "markdown",
   "metadata": {},
   "source": [
    "## POLYMORPHISM"
   ]
  },
  {
   "cell_type": "markdown",
   "metadata": {},
   "source": [
    "In object-oriented programming, polymorphism (from the Greek meaning “having multiple forms”) is the characteristic of being able to assign a different meaning or usage to something in different contexts — specifically, to allow an entity such as a function, or an object to have more than one form.\n",
    "<br><br>\n"
   ]
  },
  {
   "cell_type": "code",
   "execution_count": 24,
   "metadata": {},
   "outputs": [],
   "source": [
    "class Series():\n",
    "    def __init__(self):\n",
    "        self.id = None\n",
    "        self.network = None\n",
    "        self.seasons = None\n",
    "        self.summary = None\n",
    "        self.title = None\n",
    "        self.genres = []\n",
    "        self.episodes = []\n",
    "        \n",
    "    def get_info(self, query=''):\n",
    "        data = None #show were looking for doesn't exist\n",
    "        while not data:\n",
    "            if not query:\n",
    "                query = input(\"What is the name of the series? \")\n",
    "            \n",
    "            r = requests.get(f\"https://api.tvmaze.com/singlesearch/shows?q={query}\") \n",
    "            if r.status_code == 200:\n",
    "                data = r.json()\n",
    "            else:\n",
    "                print(f\"Series Error: {r.status_code}\")\n",
    "#       Data to alter class attributes\n",
    "        self.id = data['id']\n",
    "        self.title = data['name']\n",
    "        self.genres = data['genres']\n",
    "        if data['network']:\n",
    "            self.network = data['network']['name']\n",
    "        else:\n",
    "            self.network = data['webChannel']['name']\n",
    "            \n",
    "#         api call for episodes using the id from the series which is self.id\n",
    "        r = requests.get(f\"https://api.tvmaze.com/shows/{self.id}/episodes\")\n",
    "        if r.status_code == 200:\n",
    "            episodes = r.json() # list of episdoe dictionaries that comes back from url      \n",
    "            self.seasons = episodes[-1]['season']\n",
    "            self.episodes = [Episode(ep)for ep in episodes] # each episode dict becomes the data we're passing in to an Episodes instance\n",
    "            print(f\"{self.title} has {len(self.episodes)} episodes\")\n",
    "        else:\n",
    "            print(\"Print Episode Error: status_code {r.status_code}\")\n",
    "        \n",
    "    def watch(self):\n",
    "        for i in range(len(self.episodes)):\n",
    "            if i > 0 and i % 3 == 0:\n",
    "                watching = input(\"Are you still watching? also get a job y/n\")\n",
    "                if watching.lower().strip() not in (\"yes\", \"y\", \"yeah\", \"ye\", \"affirmative\", \"si\", \"indeed\"):\n",
    "                    break\n",
    "            self.episodes[i].play()\n",
    "            sleep(self.episodes[i].length.seconds/1000)\n",
    "    \n",
    "    def __len__(self):\n",
    "        return len(self.episodes)\n",
    "    \n",
    "    def __rep__(self):\n",
    "        return f\"Title: {self.title}\"\n",
    "            \n"
   ]
  },
  {
   "cell_type": "code",
   "execution_count": 25,
   "metadata": {},
   "outputs": [
    {
     "name": "stdout",
     "output_type": "stream",
     "text": [
      "Scrubs has 182 episodes\n"
     ]
    }
   ],
   "source": [
    "my_show = Series()\n",
    "\n",
    "my_show.get_info(\"Scrubs\")"
   ]
  },
  {
   "cell_type": "code",
   "execution_count": 26,
   "metadata": {},
   "outputs": [
    {
     "name": "stdout",
     "output_type": "stream",
     "text": [
      "Now playing: My First Day\n"
     ]
    },
    {
     "data": {
      "text/html": [
       "<img src=\"https://static.tvmaze.com/uploads/images/medium_landscape/193/483595.jpg\"/>"
      ],
      "text/plain": [
       "<IPython.core.display.Image object>"
      ]
     },
     "metadata": {},
     "output_type": "display_data"
    },
    {
     "name": "stdout",
     "output_type": "stream",
     "text": [
      "Now playing: My Mentor\n"
     ]
    },
    {
     "data": {
      "text/html": [
       "<img src=\"https://static.tvmaze.com/uploads/images/medium_landscape/193/483596.jpg\"/>"
      ],
      "text/plain": [
       "<IPython.core.display.Image object>"
      ]
     },
     "metadata": {},
     "output_type": "display_data"
    },
    {
     "name": "stdout",
     "output_type": "stream",
     "text": [
      "Now playing: My Best Friend's Mistake\n"
     ]
    },
    {
     "data": {
      "text/html": [
       "<img src=\"https://static.tvmaze.com/uploads/images/medium_landscape/193/483597.jpg\"/>"
      ],
      "text/plain": [
       "<IPython.core.display.Image object>"
      ]
     },
     "metadata": {},
     "output_type": "display_data"
    },
    {
     "name": "stdout",
     "output_type": "stream",
     "text": [
      "Are you still watching? also get a job y/nn\n"
     ]
    }
   ],
   "source": [
    "my_show.watch()"
   ]
  },
  {
   "cell_type": "code",
   "execution_count": 27,
   "metadata": {},
   "outputs": [],
   "source": [
    "# access modifiers give diff levels of security to attrs & methods\n",
    "# the __ double underscores represents a “private” variable\n",
    "\n",
    "class User:\n",
    "    __id_counter = 1 #class attribute\n",
    "    def __init__(self, username, password):\n",
    "        self.username = username\n",
    "        self.password = password[::-2]\n",
    "        self.id = User.__id_counter\n",
    "        User.__id_counter += 1\n",
    "        self.watch_list = []\n",
    "    \n",
    "    def __str__(self):\n",
    "        formatted_user = f\"\"\"\n",
    "        {self.id} - {self.username.title()}\n",
    "        pw: {self.password}\n",
    "        \"\"\"\n",
    "        \n",
    "        return formatted_user\n",
    "    \n",
    "    def __repr__(self):\n",
    "        return f\"<User {self.id} | {self.username}>\"\n",
    "    \n",
    "    def check_password(self, password_guess):\n",
    "        return self.password == password_guess[::-2]\n"
   ]
  },
  {
   "cell_type": "markdown",
   "metadata": {},
   "source": [
    "## ABSTRACTION"
   ]
  },
  {
   "cell_type": "markdown",
   "metadata": {},
   "source": [
    "Abstraction is a process of hiding the implementation details from the user, only the functionality will be provided to the user. We have a bit to do before this becomes visible. But you've seen it before with presenting the user with the option to enter inputs. We then take those input and do something with them.\n",
    "<br><br>"
   ]
  },
  {
   "cell_type": "code",
   "execution_count": 37,
   "metadata": {},
   "outputs": [],
   "source": [
    "from datetime import timedelta, date\n",
    "from IPython.display import Image\n",
    "import requests\n",
    "from time import sleep\n",
    "\n",
    "generic_image = 'codeflix.png'\n",
    "\n",
    "class Theater():\n",
    "    def __init__(self):\n",
    "        self.users = set()\n",
    "        self.current_user = None\n",
    "    \n",
    "#     adding a user to self.users\n",
    "    def add_user(self):\n",
    "        username = input(\"Please enter a username: \")\n",
    "        \n",
    "        if username in {u.username for u in self.users}:\n",
    "            print('User with that name already exists. Please try again!')\n",
    "        else:\n",
    "            password = input(\"Please enter your password: \")\n",
    "            user = User(username, password)\n",
    "            self.users.add(user)\n",
    "            print(f\"{user} has been created!!\")\n",
    "        \n",
    "        self.login_user()\n",
    "        \n",
    "#     login user\n",
    "    def login_user(self):\n",
    "        username = input(\"What is your username? \")\n",
    "        password = input(\"What is your password? \")\n",
    "        \n",
    "        for user in self.users:\n",
    "            if user.username == username and user.check_password(password):\n",
    "                self.current_user = user\n",
    "                print(f\"{user} has logged in!\")\n",
    "                break\n",
    "        else:\n",
    "            print(\"Username and/or password is incorrect!!\")\n",
    "            \n",
    "#         logout user\n",
    "    def logout(self):\n",
    "        self.current_user = None\n",
    "        print(\"You have succesfully been logged out!\")\n",
    "        \n",
    "#         update user\n",
    "    def update_user(self):\n",
    "        if self.current_user == None:\n",
    "            print(self.current_user)\n",
    "            new_user = input(\"Please enter the updated username or enter skip to keep your current username \")\n",
    "            if new_user.lower() != \"skip\":\n",
    "                self.current_user.username = new_user\n",
    "            new_pw = input(\"Please enter the updated password or enter skip to keep current password \")\n",
    "            if new_pw != \"skip\":\n",
    "                self.current_user.password = new_pw\n",
    "            print(f\"{self.current_user.username}'s info has been updated!\")\n",
    "        else:\n",
    "            print(\"Please login to update your information\")\n",
    "            sefl.login_user()\n",
    "            \n",
    "#--------------------------------------------------------------------------\n",
    "# add to watch list\n",
    "    def add_to_watchlist(self, query=\"\"):\n",
    "        if self.current_user: \n",
    "            show = Series()\n",
    "            show.get_info(query)\n",
    "            self.current_user.watch_list.append(show)\n",
    "            \n",
    "            print(f\"{show.title} has been added to the watchlist!\")\n",
    "                  \n",
    "        else:\n",
    "            print(\"please sign in to add to your watchlist\")\n",
    "            self.login_user()\n",
    "                  \n",
    "#         view watchlist\n",
    "    def view_watchlist(self):\n",
    "        if self.current_user:\n",
    "            for series in self.current_user.watch_list:\n",
    "                print(f\"\\n\\n{series} | Episodes: {(len(series))}\")\n",
    "                print(f\"\\nSummary: \\n {series.summary}\")\n",
    "                display(Image(series.episodes[0].link))\n",
    "        else:\n",
    "            print(\"please sign in to add to your watchlist\")\n",
    "            self.login_user()\n",
    "                  \n",
    "# remove from watchlist\n",
    "    def delete(self):\n",
    "        if self.current_user:\n",
    "            print(\"Your current watchlist:\")\n",
    "            self.view_watch_list()\n",
    "                  \n",
    "            response = input(\"What would you like to remove from your watch list? \")\n",
    "            \n",
    "            for series in self.current_user.watch_list:\n",
    "                if series.title.title() == response.title():\n",
    "                    self.current_user.watch_list.remove(series)\n",
    "                    print(f\"{respone.title()} has been removed from your watch list!\")\n",
    "                    break\n",
    "            else:\n",
    "                print(\"That title is not in your watch list! You GOON\") # 404 error\n",
    "            \n",
    "            self.view_watch_list()\n",
    "        else:\n",
    "            print(\"please sign in to add to your watchlist\")\n",
    "            self.login_user()\n",
    "                    \n",
    "    def choose_from_watch_list(self):\n",
    "        if self.current_user:\n",
    "            self.view_watch_list()\n",
    "            \n",
    "            watch = input(\"What would you like to watch? \")\n",
    "            for series in self.current_user.watch_list:\n",
    "                if series.title.lower() == watch.lower().strip():\n",
    "                    series.watch()\n",
    "                    break\n",
    "                        \n",
    "            else:\n",
    "                response = input(f\"{watch} is not in your watch list... would you like to add it? y/n\")\n",
    "                if response in (\"yes\", 'y'):\n",
    "                    self.add_to_watchlist(watch)\n",
    "                  \n",
    "                    print(\"..........\")\n",
    "                    sleep(2)\n",
    "                    print(\"..........\")\n",
    "                    self.current_user.watch_list[-1].watch()\n",
    "        else:\n",
    "            print(\"please sign in to add to your watchlist\")\n",
    "            self.login_user()\n",
    "                  \n",
    "#                   run it\n",
    "    def run(self):\n",
    "        \"\"\"\n",
    "        Method allowing user to choose a series and play episodes\n",
    "        \"\"\"\n",
    "        display(Image(url=generic_image))\n",
    "        \n",
    "        if self.users:\n",
    "            self.login_user()\n",
    "        else:\n",
    "            self.add_user()\n",
    "            \n",
    "            print(\"\"\"\n",
    "            What would you like to do?\n",
    "            Add - add a new user\n",
    "            Login - login to your profile\n",
    "            Update - update user information\n",
    "            Logout - Logout of your profile\n",
    "            Search - search for shows\n",
    "            Watch - pick something from your watchlist\n",
    "            View - view your watchlist\n",
    "            Delete - delete from watch list\n",
    "            Quit - close the application\n",
    "            \n",
    "            \"\"\")\n",
    "        \n",
    "        while True:\n",
    "            response = input(\"What would you like to do? (add, update, login, search, watch, view, delete, quit?) \").lower()\n",
    "            \n",
    "            if response == \"search\":\n",
    "                self.add_to_watchlist()\n",
    "            elif response == \"watch\":\n",
    "                self.choose_from_watch_list()\n",
    "            elif response == \"add\":\n",
    "                self.add_user()\n",
    "            elif response == \"logout\":\n",
    "                self.logout()\n",
    "                new_response = input(\"What would you like to do next? login, add, quit\").lower()\n",
    "                if new_response == \"add\":\n",
    "                    self.add_user()\n",
    "                elif new_response == \"login\":\n",
    "                    self.login_user()\n",
    "                elif new_response == \"quit\":\n",
    "                    print(\"Thanks for watching!\")\n",
    "                    break\n",
    "                  \n",
    "                else:\n",
    "                    print(\"Please enter a valid response and try again!\")\n",
    "            elif response == \"login\":\n",
    "                self.login_user()\n",
    "            \n",
    "            elif response == \"update\":\n",
    "                self.update_user()\n",
    "            elif response == \"view\":\n",
    "                self.update_user()\n",
    "            elif response == \"delete\":\n",
    "                self.update_user()\n",
    "            \n",
    "            elif response == \"quit\":\n",
    "                print(f\"Thanks for watch {self.current_user.username}! Now go outside!\")\n",
    "                break\n",
    "            else:\n",
    "                print(\"Please enter a valid input and try again!\")"
   ]
  },
  {
   "cell_type": "code",
   "execution_count": null,
   "metadata": {},
   "outputs": [],
   "source": []
  },
  {
   "cell_type": "code",
   "execution_count": 38,
   "metadata": {},
   "outputs": [],
   "source": [
    "codeflix = Theater()"
   ]
  },
  {
   "cell_type": "code",
   "execution_count": 39,
   "metadata": {},
   "outputs": [
    {
     "data": {
      "text/html": [
       "<img src=\"codeflix.png\"/>"
      ],
      "text/plain": [
       "<IPython.core.display.Image object>"
      ]
     },
     "metadata": {},
     "output_type": "display_data"
    },
    {
     "name": "stdout",
     "output_type": "stream",
     "text": [
      "Please enter a username: Ben\n",
      "Please enter your password: 2\n",
      "\n",
      "        4 - Ben\n",
      "        pw: 2\n",
      "         has been created!!\n",
      "What is your username? Ben\n",
      "What is your password? 2\n",
      "\n",
      "        4 - Ben\n",
      "        pw: 2\n",
      "         has logged in!\n",
      "\n",
      "            What would you like to do?\n",
      "            Add - add a new user\n",
      "            Login - login to your profile\n",
      "            Update - update user information\n",
      "            Logout - Logout of your profile\n",
      "            Search - search for shows\n",
      "            Watch - pick something from your watchlist\n",
      "            View - view your watchlist\n",
      "            Delete - delete from watch list\n",
      "            Quit - close the application\n",
      "            \n",
      "            \n",
      "What would you like to do? (add, update, login, search, watch, view, delete, quit?) watch\n"
     ]
    },
    {
     "ename": "RecursionError",
     "evalue": "maximum recursion depth exceeded",
     "output_type": "error",
     "traceback": [
      "\u001b[0;31m---------------------------------------------------------------------------\u001b[0m",
      "\u001b[0;31mRecursionError\u001b[0m                            Traceback (most recent call last)",
      "Cell \u001b[0;32mIn[39], line 1\u001b[0m\n\u001b[0;32m----> 1\u001b[0m codeflix\u001b[38;5;241m.\u001b[39mrun()\n",
      "Cell \u001b[0;32mIn[37], line 161\u001b[0m, in \u001b[0;36mTheater.run\u001b[0;34m(self)\u001b[0m\n\u001b[1;32m    159\u001b[0m     \u001b[38;5;28mself\u001b[39m\u001b[38;5;241m.\u001b[39madd_to_watchlist()\n\u001b[1;32m    160\u001b[0m \u001b[38;5;28;01melif\u001b[39;00m response \u001b[38;5;241m==\u001b[39m \u001b[38;5;124m\"\u001b[39m\u001b[38;5;124mwatch\u001b[39m\u001b[38;5;124m\"\u001b[39m:\n\u001b[0;32m--> 161\u001b[0m     \u001b[38;5;28mself\u001b[39m\u001b[38;5;241m.\u001b[39mchoose_from_watch_list()\n\u001b[1;32m    162\u001b[0m \u001b[38;5;28;01melif\u001b[39;00m response \u001b[38;5;241m==\u001b[39m \u001b[38;5;124m\"\u001b[39m\u001b[38;5;124madd\u001b[39m\u001b[38;5;124m\"\u001b[39m:\n\u001b[1;32m    163\u001b[0m     \u001b[38;5;28mself\u001b[39m\u001b[38;5;241m.\u001b[39madd_user()\n",
      "Cell \u001b[0;32mIn[37], line 108\u001b[0m, in \u001b[0;36mTheater.choose_from_watch_list\u001b[0;34m(self)\u001b[0m\n\u001b[1;32m    106\u001b[0m \u001b[38;5;28;01mdef\u001b[39;00m \u001b[38;5;21mchoose_from_watch_list\u001b[39m(\u001b[38;5;28mself\u001b[39m):\n\u001b[1;32m    107\u001b[0m     \u001b[38;5;28;01mif\u001b[39;00m \u001b[38;5;28mself\u001b[39m\u001b[38;5;241m.\u001b[39mcurrent_user:\n\u001b[0;32m--> 108\u001b[0m         \u001b[38;5;28mself\u001b[39m\u001b[38;5;241m.\u001b[39mchoose_from_watch_list()\n\u001b[1;32m    110\u001b[0m         watch \u001b[38;5;241m=\u001b[39m \u001b[38;5;28minput\u001b[39m(\u001b[38;5;124m\"\u001b[39m\u001b[38;5;124mWhat would you like to watch? \u001b[39m\u001b[38;5;124m\"\u001b[39m)\n\u001b[1;32m    111\u001b[0m         \u001b[38;5;28;01mfor\u001b[39;00m series \u001b[38;5;129;01min\u001b[39;00m \u001b[38;5;28mself\u001b[39m\u001b[38;5;241m.\u001b[39mcurrent_user\u001b[38;5;241m.\u001b[39mwatch_list:\n",
      "Cell \u001b[0;32mIn[37], line 108\u001b[0m, in \u001b[0;36mTheater.choose_from_watch_list\u001b[0;34m(self)\u001b[0m\n\u001b[1;32m    106\u001b[0m \u001b[38;5;28;01mdef\u001b[39;00m \u001b[38;5;21mchoose_from_watch_list\u001b[39m(\u001b[38;5;28mself\u001b[39m):\n\u001b[1;32m    107\u001b[0m     \u001b[38;5;28;01mif\u001b[39;00m \u001b[38;5;28mself\u001b[39m\u001b[38;5;241m.\u001b[39mcurrent_user:\n\u001b[0;32m--> 108\u001b[0m         \u001b[38;5;28mself\u001b[39m\u001b[38;5;241m.\u001b[39mchoose_from_watch_list()\n\u001b[1;32m    110\u001b[0m         watch \u001b[38;5;241m=\u001b[39m \u001b[38;5;28minput\u001b[39m(\u001b[38;5;124m\"\u001b[39m\u001b[38;5;124mWhat would you like to watch? \u001b[39m\u001b[38;5;124m\"\u001b[39m)\n\u001b[1;32m    111\u001b[0m         \u001b[38;5;28;01mfor\u001b[39;00m series \u001b[38;5;129;01min\u001b[39;00m \u001b[38;5;28mself\u001b[39m\u001b[38;5;241m.\u001b[39mcurrent_user\u001b[38;5;241m.\u001b[39mwatch_list:\n",
      "    \u001b[0;31m[... skipping similar frames: Theater.choose_from_watch_list at line 108 (2970 times)]\u001b[0m\n",
      "Cell \u001b[0;32mIn[37], line 108\u001b[0m, in \u001b[0;36mTheater.choose_from_watch_list\u001b[0;34m(self)\u001b[0m\n\u001b[1;32m    106\u001b[0m \u001b[38;5;28;01mdef\u001b[39;00m \u001b[38;5;21mchoose_from_watch_list\u001b[39m(\u001b[38;5;28mself\u001b[39m):\n\u001b[1;32m    107\u001b[0m     \u001b[38;5;28;01mif\u001b[39;00m \u001b[38;5;28mself\u001b[39m\u001b[38;5;241m.\u001b[39mcurrent_user:\n\u001b[0;32m--> 108\u001b[0m         \u001b[38;5;28mself\u001b[39m\u001b[38;5;241m.\u001b[39mchoose_from_watch_list()\n\u001b[1;32m    110\u001b[0m         watch \u001b[38;5;241m=\u001b[39m \u001b[38;5;28minput\u001b[39m(\u001b[38;5;124m\"\u001b[39m\u001b[38;5;124mWhat would you like to watch? \u001b[39m\u001b[38;5;124m\"\u001b[39m)\n\u001b[1;32m    111\u001b[0m         \u001b[38;5;28;01mfor\u001b[39;00m series \u001b[38;5;129;01min\u001b[39;00m \u001b[38;5;28mself\u001b[39m\u001b[38;5;241m.\u001b[39mcurrent_user\u001b[38;5;241m.\u001b[39mwatch_list:\n",
      "\u001b[0;31mRecursionError\u001b[0m: maximum recursion depth exceeded"
     ]
    }
   ],
   "source": [
    "codeflix.run()"
   ]
  },
  {
   "cell_type": "markdown",
   "metadata": {},
   "source": [
    "## Exercise 1"
   ]
  },
  {
   "cell_type": "markdown",
   "metadata": {},
   "source": [
    "<p>Describe in your own words the following concepts and give an analogy tying to a real-world concept."
   ]
  },
  {
   "cell_type": "markdown",
   "metadata": {},
   "source": [
    "#### Difference between a Class and an Object"
   ]
  },
  {
   "cell_type": "code",
   "execution_count": null,
   "metadata": {},
   "outputs": [],
   "source": []
  },
  {
   "cell_type": "markdown",
   "metadata": {},
   "source": [
    "#### Encapsulation"
   ]
  },
  {
   "cell_type": "code",
   "execution_count": null,
   "metadata": {},
   "outputs": [],
   "source": []
  },
  {
   "cell_type": "markdown",
   "metadata": {},
   "source": [
    "#### Inheritance"
   ]
  },
  {
   "cell_type": "code",
   "execution_count": null,
   "metadata": {},
   "outputs": [],
   "source": []
  },
  {
   "cell_type": "markdown",
   "metadata": {},
   "source": [
    "#### Polymorphism"
   ]
  },
  {
   "cell_type": "code",
   "execution_count": null,
   "metadata": {},
   "outputs": [],
   "source": []
  },
  {
   "cell_type": "markdown",
   "metadata": {},
   "source": [
    "#### Abstraction"
   ]
  },
  {
   "cell_type": "code",
   "execution_count": null,
   "metadata": {},
   "outputs": [],
   "source": []
  },
  {
   "cell_type": "markdown",
   "metadata": {},
   "source": [
    "##  Exercise 2 (Optional):\n",
    "Discuss what other classes, methods, or fields (attributes) we could make to improve our streaming service using these principles. <br> <br>\n",
    "Start making a few of them and see where it leads. Make sure you either write out your thoughts in the below cell  or comment where you added code to the above Classes."
   ]
  },
  {
   "cell_type": "code",
   "execution_count": null,
   "metadata": {},
   "outputs": [],
   "source": []
  }
 ],
 "metadata": {
  "kernelspec": {
   "display_name": "Python 3 (ipykernel)",
   "language": "python",
   "name": "python3"
  },
  "language_info": {
   "codemirror_mode": {
    "name": "ipython",
    "version": 3
   },
   "file_extension": ".py",
   "mimetype": "text/x-python",
   "name": "python",
   "nbconvert_exporter": "python",
   "pygments_lexer": "ipython3",
   "version": "3.11.4"
  }
 },
 "nbformat": 4,
 "nbformat_minor": 4
}
